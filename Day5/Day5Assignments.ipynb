{
 "cells": [
  {
   "cell_type": "markdown",
   "metadata": {},
   "source": [
    "___Question 1 :___ Write a Python program to find the first 20 non-even prime natural numbers."
   ]
  },
  {
   "cell_type": "code",
   "execution_count": 1,
   "metadata": {},
   "outputs": [
    {
     "name": "stdout",
     "output_type": "stream",
     "text": [
      "[3, 5, 7, 11, 13, 17, 19, 23, 29, 31, 37, 41, 43, 47, 53, 59, 61, 67, 71, 73]\n"
     ]
    }
   ],
   "source": [
    "non_even_prime = []\n",
    "for num in range(2, 100):\n",
    "    for i in range(2, num):\n",
    "        if (num % i) == 0:\n",
    "            break\n",
    "    else:\n",
    "        if len(non_even_prime) == 20:\n",
    "            break\n",
    "        else:\n",
    "            if num % 2 !=0:\n",
    "                non_even_prime.append(num)\n",
    "print(non_even_prime)"
   ]
  },
  {
   "cell_type": "markdown",
   "metadata": {},
   "source": [
    "___Question 2 :___ Write a Python program to implement 15 functions of string"
   ]
  },
  {
   "cell_type": "code",
   "execution_count": 55,
   "metadata": {},
   "outputs": [
    {
     "name": "stdout",
     "output_type": "stream",
     "text": [
      "Helloworld to aiml batch1\n",
      "helloworld to aiml batch1\n",
      "4\n",
      "9\n",
      "helloworld to aiml batch1\n",
      "HELLOWORLD TO AIML BATCH1\n",
      "False\n",
      "False\n",
      "True\n",
      "True\n",
      "True\n",
      "False\n",
      "True\n",
      "1\n",
      "oOKk\n"
     ]
    }
   ],
   "source": [
    "s=\"helloWorld to aiml batch1\"\n",
    "print(s.capitalize()+\"\\n\"+s.casefold()+\"\\n\"+ str(s.count('l'))+\"\\n\"+str(s.index('d'))\n",
    "      +\"\\n\"+s.lower()+\"\\n\"+s.upper()+\"\\n\"+str(s.isnumeric())+\"\\n\"+str(s.isalpha())+\"\\n\"\n",
    "      +str(\" \".isspace())+\"\\n\"+str(\"1\".isdigit())+\"\\n\"+str(\"OK\".isupper())+\"\\n\"+str(s.istitle())+\"\\n\"+str(\"ok\".islower())\n",
    "     +\"\\n\"+str(\"OK\".find('K'))+\"\\n\"+str(\"OK\".join('ok')))"
   ]
  },
  {
   "cell_type": "markdown",
   "metadata": {},
   "source": [
    "___Question 3:___ Write a Python program to check if the given string is a Palindrome or Anagram or None of them.Display the message accordingly to the user."
   ]
  },
  {
   "cell_type": "code",
   "execution_count": 56,
   "metadata": {},
   "outputs": [
    {
     "name": "stdout",
     "output_type": "stream",
     "text": [
      "Redefining and definingRe is Anagram\n"
     ]
    }
   ],
   "source": [
    "from collections import Counter\n",
    "\n",
    "string1 = \"Redefining\"\n",
    "string2 = \"definingRe\"\n",
    "\n",
    "# Polindrome - string1\n",
    "# Anagram needs two strings\n",
    "rev = string1[::-1]\n",
    "\n",
    "if string1 == rev:\n",
    "    print(string1, \"is Polindrome\")\n",
    "elif Counter(string1) == Counter(string2):\n",
    "    print(string1,'and',string2 ,'is Anagram')\n",
    "else:\n",
    "    print('None of them')"
   ]
  },
  {
   "cell_type": "markdown",
   "metadata": {},
   "source": [
    "___Question 4:___\n",
    "Write a Python's user defined function that removes all the additional characters from the string\n",
    "and converts it finally to lower case using built-in lower(). eg: If the string is \"Dr. Darshan Ingle\n",
    "@AI-ML Trainer\", then the output be \"drdarshaningleaimltrainer\"."
   ]
  },
  {
   "cell_type": "code",
   "execution_count": 66,
   "metadata": {},
   "outputs": [
    {
     "name": "stdout",
     "output_type": "stream",
     "text": [
      "dr.darshaningleai-mltrainer\n"
     ]
    }
   ],
   "source": [
    "def replacecharactersntolower(s):\n",
    "    print(s.replace(\"@\",\"\").lower().replace(\" \",\"\"))\n",
    "replacecharactersntolower(\"Dr. Darshan Ingle @AI-ML Trainer\")"
   ]
  },
  {
   "cell_type": "code",
   "execution_count": null,
   "metadata": {},
   "outputs": [],
   "source": []
  }
 ],
 "metadata": {
  "kernelspec": {
   "display_name": "Python 3",
   "language": "python",
   "name": "python3"
  },
  "language_info": {
   "codemirror_mode": {
    "name": "ipython",
    "version": 3
   },
   "file_extension": ".py",
   "mimetype": "text/x-python",
   "name": "python",
   "nbconvert_exporter": "python",
   "pygments_lexer": "ipython3",
   "version": "3.7.6"
  }
 },
 "nbformat": 4,
 "nbformat_minor": 4
}
