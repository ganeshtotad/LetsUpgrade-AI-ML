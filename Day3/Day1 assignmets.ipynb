{
 "cells": [
  {
   "cell_type": "markdown",
   "metadata": {},
   "source": [
    "___Question 1 :___\n",
    "Write a program to subtract two complex numbers in Python"
   ]
  },
  {
   "cell_type": "code",
   "execution_count": null,
   "metadata": {},
   "outputs": [],
   "source": [
    "a=3+4j\n",
    "b=5+6j\n",
    "c= a-b\n",
    "print(type(c))"
   ]
  },
  {
   "cell_type": "markdown",
   "metadata": {},
   "source": [
    "___Question 2 :___\n",
    "Write a program to find the fourth root of a number."
   ]
  },
  {
   "cell_type": "markdown",
   "metadata": {},
   "source": [
    "___Solutuion:___ \n",
    "A fourth root can also be calculated as the same number to the exponent 1/4.\n",
    "4√number = number1/4  that is number**.25  \n",
    "Example as below:"
   ]
  },
  {
   "cell_type": "code",
   "execution_count": null,
   "metadata": {},
   "outputs": [],
   "source": [
    "81**.25"
   ]
  },
  {
   "cell_type": "code",
   "execution_count": null,
   "metadata": {},
   "outputs": [],
   "source": [
    "3*3*3*3"
   ]
  },
  {
   "cell_type": "markdown",
   "metadata": {},
   "source": [
    "___Question 3:___\n",
    "Write a program to swap two numbers in Python with the help of a temporary variable"
   ]
  },
  {
   "cell_type": "code",
   "execution_count": 28,
   "metadata": {},
   "outputs": [
    {
     "name": "stdout",
     "output_type": "stream",
     "text": [
      "5 3\n"
     ]
    }
   ],
   "source": [
    "x=3\n",
    "y=5\n",
    "z=x\n",
    "x=y\n",
    "y=z\n",
    "print(x,y)"
   ]
  },
  {
   "cell_type": "markdown",
   "metadata": {},
   "source": [
    "___Question 4:___\n",
    "Write a program to swap two numbers in Python without using a temporary variable"
   ]
  },
  {
   "cell_type": "code",
   "execution_count": null,
   "metadata": {},
   "outputs": [],
   "source": [
    "a=3\n",
    "b=5\n",
    "a=a+b\n",
    "b=a-b\n",
    "a=a-b\n",
    "print(a,b)\n"
   ]
  },
  {
   "cell_type": "markdown",
   "metadata": {},
   "source": [
    "___Question 5:___\n",
    "Write a program to convert fahrenheit to kelvin and celsius both"
   ]
  },
  {
   "cell_type": "code",
   "execution_count": null,
   "metadata": {},
   "outputs": [],
   "source": [
    "F=120\n",
    "k=273.5 + ((F - 32.0) * (5.0/9.0))\n",
    "c=((f-32)*5)/9"
   ]
  },
  {
   "cell_type": "markdown",
   "metadata": {},
   "source": [
    "___Question 6:___\n",
    "Write a program to demonstrate all the available data types in Python. Hint: Use type() function."
   ]
  },
  {
   "cell_type": "markdown",
   "metadata": {},
   "source": [
    "# Python Data Types\n",
    "___Variables :___\n",
    "Variables can hold values of different data types. Python is a dynamically typed language hence we need not define the type of the variable while declaring it. The interpreter implicitly binds the value with its type.\n",
    "\n",
    " \n",
    "\n",
    "Python enables us to check the type of the variable used in the program. Python provides us the type() function which returns the type of the variable passed.\n",
    "\n",
    " The data types defined in Python are given below.\n",
    "\n",
    " \n",
    "\n",
    "__Numbers__\n",
    "__String__\n",
    "__List__\n",
    "__Tuple__\n",
    "__Dictionary__\n",
    "\n",
    "__Consider the following example to define the values of different data types and checking its type.__\n",
    " \n",
    " \n",
    " "
   ]
  },
  {
   "cell_type": "code",
   "execution_count": 7,
   "metadata": {},
   "outputs": [
    {
     "name": "stdout",
     "output_type": "stream",
     "text": [
      "<class 'int'>\n",
      "<class 'str'>\n",
      "<class 'float'>\n"
     ]
    }
   ],
   "source": [
    "A=10  \n",
    "\n",
    "b=\"Hi Python\"  \n",
    "\n",
    "c = 10.5  \n",
    " l  = [1, \"hi\", \"python\", 2]  \n",
    "    \n",
    "print(type(a));  \n",
    "\n",
    "print(type(b));  \n",
    "\n",
    "print(type(c));      "
   ]
  },
  {
   "cell_type": "markdown",
   "metadata": {},
   "source": [
    "___List___\n",
    "\n",
    "\n",
    "Lists are similar to arrays in C. However; the list can contain data of different types. The items stored in the list are separated with a comma (,) and enclosed within square brackets [].\n",
    "\n",
    "We can use slice [:] operators to access the data of the list. The concatenation operator (+) and repetition operator (*) works with the list in the same way as they were working with the strings.\n",
    "\n",
    " __Consider the following example.__\n"
   ]
  },
  {
   "cell_type": "code",
   "execution_count": 12,
   "metadata": {},
   "outputs": [
    {
     "name": "stdout",
     "output_type": "stream",
     "text": [
      "<class 'list'>\n",
      "[2]\n",
      "[1, 'hi']\n",
      "[1, 'hi', 'python', 2]\n",
      "[1, 'hi', 'python', 2, 1, 'hi', 'python', 2]\n",
      "[1, 'hi', 'python', 2, 1, 'hi', 'python', 2, 1, 'hi', 'python', 2]\n"
     ]
    }
   ],
   "source": [
    " l  = [1, \"hi\", \"python\", 2]  \n",
    "\n",
    "print(type(l))\n",
    "\n",
    "print (l[3:]);  \n",
    "\n",
    "print (l[0:2]);  \n",
    "\n",
    "print (l);  \n",
    "\n",
    "print (l + l);  \n",
    "\n",
    "print (l * 3);      "
   ]
  },
  {
   "cell_type": "markdown",
   "metadata": {},
   "source": [
    "___Tuple___\n",
    "A tuple is similar to the list in many ways. Like lists, tuples also contain the collection of the items of different data types. The items of the tuple are separated with a comma (,) and enclosed in parentheses ().\n",
    "A tuple is a read-only data structure as we can't modify the size and value of the items of a tuple.\n",
    "\n",
    "__Let's see a simple example of the tuple.__"
   ]
  },
  {
   "cell_type": "code",
   "execution_count": 17,
   "metadata": {},
   "outputs": [
    {
     "name": "stdout",
     "output_type": "stream",
     "text": [
      "('python', 2)\n",
      "('hi',)\n",
      "('hi', 'python', 2)\n",
      "('hi', 'python', 2, 'hi', 'python', 2)\n",
      "('hi', 'python', 2, 'hi', 'python', 2, 'hi', 'python', 2)\n",
      "<class 'tuple'>\n"
     ]
    }
   ],
   "source": [
    "t  = (\"hi\", \"python\", 2)  \n",
    "print(t[1:])\n",
    "print(t[0:1])\n",
    "print(t)  \n",
    "print(t + t)  \n",
    "print(t * 3)  \n",
    "print(type(t))  \n",
    "#  this line will not support for Tuple object as tuple is not modifyable t[2] = \"hi\"       "
   ]
  },
  {
   "cell_type": "markdown",
   "metadata": {},
   "source": [
    "___Dictionary___\n",
    "Dictionary is an ordered set of a key-value pair of items. It is like an associative array or a hash table where each key stores a specific value. Key can hold any primitive data type whereas value is an arbitrary Python object.\n",
    "\n",
    "The items in the dictionary are separated with the comma and enclosed in the curly braces {}.\n",
    "\n",
    "__Consider the following example.__"
   ]
  },
  {
   "cell_type": "code",
   "execution_count": 22,
   "metadata": {},
   "outputs": [
    {
     "name": "stdout",
     "output_type": "stream",
     "text": [
      "1st name is Jimmy,don\n",
      "2nd name is Alex\n",
      "{1: 'Jimmy,don', 2: 'Alex', 3: 'john', 4: 'mike'}\n",
      "dict_keys([1, 2, 3, 4])\n",
      "dict_values(['Jimmy,don', 'Alex', 'john', 'mike'])\n"
     ]
    }
   ],
   "source": [
    "d = {1:'Jimmy', 2:'Alex', 3:'john', 4:'mike'};  \n",
    "print(\"1st name is \"+d[1]);  \n",
    "print(\"2nd name is \"+ d[2]);  \n",
    "print (d);  \n",
    "print (d.keys());  \n",
    "print (d.values());        "
   ]
  },
  {
   "cell_type": "markdown",
   "metadata": {},
   "source": [
    "___Question 7:___\n",
    "Create a Markdown cell in jupyter and list the steps discussed in the session by Dr. Darshan\n",
    "Ingle sir to create Github profile and upload Githubs Assignment link."
   ]
  },
  {
   "cell_type": "markdown",
   "metadata": {},
   "source": [
    "# 🔗Assignment Submission Link : https://bit.ly/aimlassignment___\n",
    "\n",
    "___🔗GitHub Folder for AI ML Assignments : https://github.com/LetsUpgrade/AI-ML-July-2020___\n",
    "\n",
    "Notes will be uploaded after whole notebook is covered by Sir.\n",
    "\n",
    "You have to upload the assignment solutions to your GitHub profile and submit the URL to us.\n",
    "\n",
    "🤔 _How to submit Assignments?_\n",
    "\n",
    "Create a Github public repo and name it LetsUpgrade AI/ML\n",
    "1 Upload the files/solution in the repo in day wise manner.\n",
    "2 Copy the URL of the Folder of that day and paste in the Assignment Submission Form (Google Form)\n",
    "3 Make sure you are filling correct details in the Assignment Submission Form.\n",
    "4 All the drop-downs will be available till the week end only. i.e Previous weeks drop-down will disappear on each Sunday 11:59 PM\n",
    "5 You have to submit all the assignment given during the weekdays by respective SUNDAY 11:59 PM IST.\n",
    "6 Assignments will be uploaded by LetsUpgrade Team by end of the day of the session.\n"
   ]
  },
  {
   "cell_type": "code",
   "execution_count": null,
   "metadata": {},
   "outputs": [],
   "source": []
  }
 ],
 "metadata": {
  "kernelspec": {
   "display_name": "Python 3",
   "language": "python",
   "name": "python3"
  },
  "language_info": {
   "codemirror_mode": {
    "name": "ipython",
    "version": 3
   },
   "file_extension": ".py",
   "mimetype": "text/x-python",
   "name": "python",
   "nbconvert_exporter": "python",
   "pygments_lexer": "ipython3",
   "version": "3.7.6"
  }
 },
 "nbformat": 4,
 "nbformat_minor": 4
}
