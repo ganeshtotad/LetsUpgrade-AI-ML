{
 "cells": [
  {
   "cell_type": "markdown",
   "metadata": {},
   "source": [
    "__Question 1 :__\n",
    "Research on whether addition, subtraction, multiplication, division, floor division and modulo\n",
    "operations be performed on complex numbers. Based on your study, implement a Python\n",
    "program to demonstrate these operations"
   ]
  },
  {
   "cell_type": "markdown",
   "metadata": {},
   "source": [
    "___Mathematical Calculations on Complex numbers___\n",
    "We can do simple mathematical calculations on complex numbers:"
   ]
  },
  {
   "cell_type": "code",
   "execution_count": 5,
   "metadata": {},
   "outputs": [
    {
     "name": "stdout",
     "output_type": "stream",
     "text": [
      "Addition of two complex number = (9+21j)\n",
      "Subtraction of two complex number = (-3-9j)\n",
      "Multiplication of two complex number = (-72+81j)\n",
      "Division of two complex number = (0.4137931034482759-0.03448275862068964j)\n"
     ]
    }
   ],
   "source": [
    "#first complex number\n",
    "c1 = 3 + 6j\n",
    "#Second complex number\n",
    "c2 = 6 + 15j\n",
    "\n",
    "#Addition\n",
    "print(\"Addition of two complex number =\", c1 + c2)\n",
    "\n",
    "\n",
    "#Subtraction\n",
    "print(\"Subtraction of two complex number =\", c1 - c2)\n",
    "\n",
    "#Multiplication\n",
    "print(\"Multiplication of two complex number =\", c1 * c2)\n",
    "\n",
    "#Division\n",
    "print(\"Division of two complex number =\", c1 / c2)\n",
    "\n",
    "#FloorDivision  TypeError: can't take floor of complex number.\n",
    "#print(\"Floor Division of two complex number =\", c1 // c2)\n",
    "\n",
    "#Modulo  TypeError: can't mod complex numbers.\n",
    "#print(\"Floor Division of two complex number =\", c1 % c2)\n"
   ]
  },
  {
   "cell_type": "markdown",
   "metadata": {},
   "source": [
    "___Question 2 :___\n",
    "Research on range() functions and its parameters. Create a markdown cell and write in your own\n",
    "words (no copy-paste from google please) what you understand about it. Implement a small\n",
    "program of your choice on the same."
   ]
  },
  {
   "cell_type": "markdown",
   "metadata": {},
   "source": [
    "range() is a pre-defined default function, which provides the sequence of integers. It accepts an argument where you can mention an integer, so the sequence of number stops with the mentioned parameter and the sequence starts with 0. below is the discriptin  of from hinterland\n",
    "\n",
    "Init signature: range(self, /, *args, **kwargs)\n",
    "Docstring:     \n",
    "range(stop) -> range object\n",
    "range(start, stop[, step]) -> range object\n",
    "\n",
    "Return an object that produces a sequence of integers from start (inclusive)\n",
    "to stop (exclusive) by step.  range(i, j) produces i, i+1, i+2, ..., j-1.\n",
    "start defaults to 0, and stop is omitted!  range(4) produces 0, 1, 2, 3.\n",
    "These are exactly the valid indices for a list of 4 elements.\n",
    "When step is given, it specifies the increment (or decrement).\n",
    "Type:           type\n",
    "Subclasses:     \n"
   ]
  },
  {
   "cell_type": "code",
   "execution_count": 11,
   "metadata": {},
   "outputs": [
    {
     "name": "stdout",
     "output_type": "stream",
     "text": [
      "range(0, 10)\n",
      "0\n",
      "10\n",
      "20\n",
      "30\n",
      "40\n",
      "50\n",
      "60\n",
      "70\n",
      "80\n",
      "90\n",
      "100\n",
      "range(0, 10)\n",
      "0\n",
      "7\n",
      "14\n",
      "21\n",
      "28\n",
      "35\n",
      "42\n",
      "49\n",
      "56\n",
      "63\n",
      "70\n",
      "77\n",
      "84\n",
      "91\n",
      "98\n",
      "105\n"
     ]
    }
   ],
   "source": [
    "print(range(10))\n",
    "for i in range(0,110,10):#like this we can print nuber tables till 110\n",
    "    print(i)\n",
    "print(range(10))\n",
    "for i in range(0,110,7):#like this we can print nuber tables till 110\n",
    "    print(i)"
   ]
  },
  {
   "cell_type": "markdown",
   "metadata": {},
   "source": [
    "___Question 3:___ Consider two numbers. Perform their subtraction and if the result of subtraction is greater than 25, print their multiplication result else print their division result."
   ]
  },
  {
   "cell_type": "code",
   "execution_count": 12,
   "metadata": {},
   "outputs": [
    {
     "name": "stdout",
     "output_type": "stream",
     "text": [
      "2000\n"
     ]
    }
   ],
   "source": [
    "a=200\n",
    "b=10\n",
    "c=a-b\n",
    "if (c>25):\n",
    "  print(a*b)\n",
    "else:\n",
    "  print(a/b)"
   ]
  },
  {
   "cell_type": "markdown",
   "metadata": {},
   "source": [
    "___Question 4:___ Consider a list of 10 elements of integer values. If the number in the list is divisible by 2, print the result as \"square of that number minus 2\"."
   ]
  },
  {
   "cell_type": "code",
   "execution_count": 42,
   "metadata": {},
   "outputs": [
    {
     "name": "stdout",
     "output_type": "stream",
     "text": [
      "[0, 7, 14, 21, 28, 35, 42, 49, 56, 63, 70]\n",
      "-2\n",
      "194\n",
      "782\n",
      "1762\n",
      "3134\n",
      "4898\n"
     ]
    }
   ],
   "source": [
    "a=[]\n",
    "for i in range(0,77,7):\n",
    "    a=a+[i]\n",
    "print(a)\n",
    "for j in a:\n",
    "    if(j%2==0):\n",
    "        print(j**2-2)\n",
    "\n"
   ]
  },
  {
   "cell_type": "markdown",
   "metadata": {},
   "source": [
    "___Question 5:___ Consider a list of 10 elements. Print all the elements in the list which are greater than 7 when that number is divided 2."
   ]
  },
  {
   "cell_type": "code",
   "execution_count": 44,
   "metadata": {},
   "outputs": [
    {
     "name": "stdout",
     "output_type": "stream",
     "text": [
      "[0, 2, 4, 6, 8, 10, 12, 14, 16, 18, 20]\n",
      "16\n",
      "18\n",
      "20\n"
     ]
    }
   ],
   "source": [
    "a=[]\n",
    "for i in range(0,22,2):\n",
    "    a=a+[i]\n",
    "print(a)\n",
    "for j in a:\n",
    "    if(j/2>7):\n",
    "        print(j)\n"
   ]
  },
  {
   "cell_type": "code",
   "execution_count": null,
   "metadata": {},
   "outputs": [],
   "source": []
  }
 ],
 "metadata": {
  "kernelspec": {
   "display_name": "Python 3",
   "language": "python",
   "name": "python3"
  },
  "language_info": {
   "codemirror_mode": {
    "name": "ipython",
    "version": 3
   },
   "file_extension": ".py",
   "mimetype": "text/x-python",
   "name": "python",
   "nbconvert_exporter": "python",
   "pygments_lexer": "ipython3",
   "version": "3.7.6"
  }
 },
 "nbformat": 4,
 "nbformat_minor": 4
}
